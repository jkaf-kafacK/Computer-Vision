{
 "cells": [
  {
   "cell_type": "code",
   "execution_count": 1,
   "id": "d79c2be5",
   "metadata": {},
   "outputs": [
    {
     "name": "stderr",
     "output_type": "stream",
     "text": [
      "2022-12-08 14:43:24.045036: I tensorflow/core/platform/cpu_feature_guard.cc:193] This TensorFlow binary is optimized with oneAPI Deep Neural Network Library (oneDNN) to use the following CPU instructions in performance-critical operations:  AVX2 FMA\n",
      "To enable them in other operations, rebuild TensorFlow with the appropriate compiler flags.\n",
      "2022-12-08 14:43:24.966205: W tensorflow/compiler/xla/stream_executor/platform/default/dso_loader.cc:64] Could not load dynamic library 'libnvinfer.so.7'; dlerror: libnvinfer.so.7: cannot open shared object file: No such file or directory; LD_LIBRARY_PATH: :/home/coleger/miniconda3/envs/tf/lib/\n",
      "2022-12-08 14:43:24.966272: W tensorflow/compiler/xla/stream_executor/platform/default/dso_loader.cc:64] Could not load dynamic library 'libnvinfer_plugin.so.7'; dlerror: libnvinfer_plugin.so.7: cannot open shared object file: No such file or directory; LD_LIBRARY_PATH: :/home/coleger/miniconda3/envs/tf/lib/\n",
      "2022-12-08 14:43:24.966279: W tensorflow/compiler/tf2tensorrt/utils/py_utils.cc:38] TF-TRT Warning: Cannot dlopen some TensorRT libraries. If you would like to use Nvidia GPU with TensorRT, please make sure the missing libraries mentioned above are installed properly.\n"
     ]
    }
   ],
   "source": [
    "import os \n",
    "from pathlib import Path\n",
    "import numpy as np\n",
    "import nibabel as nib\n",
    "import matplotlib.pyplot as plt\n",
    "import pandas as pd\n",
    "import tensorflow as tf"
   ]
  },
  {
   "cell_type": "code",
   "execution_count": 2,
   "id": "ade9ce97",
   "metadata": {},
   "outputs": [],
   "source": [
    "def get_data(path):\n",
    "    data = pd.read_csv(path, names= ['Subject ID', 'Rooster ID', 'Age', 'Sexe', 'Group', 'Conversion', 'MMSE', 'RAVLT', 'FAQ', 'CDR-SB', 'ADAS11'], usecols = ['Subject ID', 'Rooster ID', 'Group'])\n",
    "    data.index = data['Subject ID']\n",
    "    data = data.drop(['Subject ID'], axis=1)\n",
    "    data = data[((data.Group == 'AD') | (data.Group == 'CN'))]\n",
    "    return data\n"
   ]
  },
  {
   "cell_type": "code",
   "execution_count": 3,
   "id": "858bfc7a",
   "metadata": {},
   "outputs": [],
   "source": [
    "path = str(Path().resolve())\n",
    "path = path + \"/ADNI1/\"\n",
    "filename = os.listdir(path)[2]\n",
    "n_mmni_filename = os.path.join(path, filename)\n",
    "img_n_mmni = nib.load(n_mmni_filename)\n"
   ]
  },
  {
   "cell_type": "code",
   "execution_count": 4,
   "id": "b726872d",
   "metadata": {},
   "outputs": [
    {
     "data": {
      "text/html": [
       "<div>\n",
       "<style scoped>\n",
       "    .dataframe tbody tr th:only-of-type {\n",
       "        vertical-align: middle;\n",
       "    }\n",
       "\n",
       "    .dataframe tbody tr th {\n",
       "        vertical-align: top;\n",
       "    }\n",
       "\n",
       "    .dataframe thead th {\n",
       "        text-align: right;\n",
       "    }\n",
       "</style>\n",
       "<table border=\"1\" class=\"dataframe\">\n",
       "  <thead>\n",
       "    <tr style=\"text-align: right;\">\n",
       "      <th></th>\n",
       "      <th>Rooster ID</th>\n",
       "      <th>Group</th>\n",
       "    </tr>\n",
       "    <tr>\n",
       "      <th>Subject ID</th>\n",
       "      <th></th>\n",
       "      <th></th>\n",
       "    </tr>\n",
       "  </thead>\n",
       "  <tbody>\n",
       "    <tr>\n",
       "      <th>002_S_0295</th>\n",
       "      <td>295</td>\n",
       "      <td>CN</td>\n",
       "    </tr>\n",
       "    <tr>\n",
       "      <th>002_S_0413</th>\n",
       "      <td>413</td>\n",
       "      <td>CN</td>\n",
       "    </tr>\n",
       "    <tr>\n",
       "      <th>002_S_0559</th>\n",
       "      <td>559</td>\n",
       "      <td>CN</td>\n",
       "    </tr>\n",
       "    <tr>\n",
       "      <th>002_S_0619</th>\n",
       "      <td>619</td>\n",
       "      <td>AD</td>\n",
       "    </tr>\n",
       "    <tr>\n",
       "      <th>002_S_0685</th>\n",
       "      <td>685</td>\n",
       "      <td>CN</td>\n",
       "    </tr>\n",
       "  </tbody>\n",
       "</table>\n",
       "</div>"
      ],
      "text/plain": [
       "            Rooster ID Group\n",
       "Subject ID                  \n",
       "002_S_0295         295    CN\n",
       "002_S_0413         413    CN\n",
       "002_S_0559         559    CN\n",
       "002_S_0619         619    AD\n",
       "002_S_0685         685    CN"
      ]
     },
     "execution_count": 4,
     "metadata": {},
     "output_type": "execute_result"
    }
   ],
   "source": [
    "path = str(Path().resolve()) + \"/ADNI1/list_standardized_tongtong_2017.csv\"\n",
    "y_data = get_data(path)\n",
    "y_data.head()\n"
   ]
  },
  {
   "cell_type": "code",
   "execution_count": 5,
   "id": "cde4f945-ecfb-4c2e-ada6-6952455269fd",
   "metadata": {},
   "outputs": [],
   "source": [
    "def reduce_shape(data):\n",
    "    # shape now = (181, 217, 181)\n",
    "    reduced_data = data[::2, ::2, ::2]\n",
    "    # on prend juste 1 pixel sur 2\n",
    "    return reduced_data\n",
    "\n",
    "# problème : il faut qu'on ait le même format de données pourque ça fonctionne "
   ]
  },
  {
   "cell_type": "code",
   "execution_count": 6,
   "id": "55e167d8",
   "metadata": {},
   "outputs": [],
   "source": [
    "from tensorflow.keras.utils import to_categorical\n",
    "\n",
    "\n",
    "def Data_preparation(Y):\n",
    "    X_data = []\n",
    "    Y_data = []\n",
    "    \n",
    "    path = str(Path().resolve()) + \"/ADNI1\"\n",
    "    for index, _ in Y.iterrows():\n",
    "        filename = path + '/n_mmni_fADNI_' + index + '_1.5T_t1w.nii.gz'\n",
    "        \n",
    "        if os.path.isfile(filename):\n",
    "            img_n_mmni = nib.load(filename).get_fdata()\n",
    "            reduced_shape_data = reduce_shape(img_n_mmni)\n",
    "        \n",
    "            X_data.append(reduced_shape_data)\n",
    "            if Y['Group'][index] == 'AD':\n",
    "                Y_data.append(1)\n",
    "            elif Y['Group'][index] == 'CN':\n",
    "                Y_data.append(0)\n",
    "          \n",
    "            \n",
    "        else:\n",
    "            Y.drop(index, inplace=True)\n",
    "        \n",
    "    X_data = np.array(X_data)   \n",
    "    return X_data, Y_data\n"
   ]
  },
  {
   "cell_type": "code",
   "execution_count": 7,
   "id": "14032a65",
   "metadata": {},
   "outputs": [
    {
     "name": "stdout",
     "output_type": "stream",
     "text": [
      "(419, 91, 109, 91)\n",
      "419\n"
     ]
    }
   ],
   "source": [
    "X_data, Y_data = Data_preparation(y_data)\n",
    "Y_data = to_categorical(Y_data, num_classes=2)\n",
    "\n",
    "print(X_data.shape)\n",
    "print(len(Y_data))"
   ]
  },
  {
   "cell_type": "code",
   "execution_count": 13,
   "id": "e04368b7-ee20-4930-b4df-c1f02b4279ed",
   "metadata": {},
   "outputs": [
    {
     "name": "stdout",
     "output_type": "stream",
     "text": [
      "<class 'numpy.ndarray'>\n"
     ]
    }
   ],
   "source": [
    "print(type(X_data))"
   ]
  },
  {
   "cell_type": "code",
   "execution_count": 8,
   "id": "a587e272-0333-442a-9064-dad1690a1449",
   "metadata": {},
   "outputs": [],
   "source": [
    "# on garde seulement une colonne pour y \n",
    "y_data = np.argmax(Y_data, axis= 1)"
   ]
  },
  {
   "cell_type": "code",
   "execution_count": 9,
   "id": "3e607848",
   "metadata": {},
   "outputs": [
    {
     "name": "stdout",
     "output_type": "stream",
     "text": [
      "Data splited, length of training data is:  335\n",
      "Data splited, length of test data is:  84\n"
     ]
    }
   ],
   "source": [
    "from sklearn.model_selection import train_test_split\n",
    "\n",
    "X_train, X_test, y_train, y_test = train_test_split(X_data, y_data, test_size=0.2, random_state=49) \n",
    "\n",
    "print(\"Data splited, length of training data is: \", len(X_train))\n",
    "print(\"Data splited, length of test data is: \", len(X_test))"
   ]
  },
  {
   "cell_type": "code",
   "execution_count": 21,
   "id": "86763793-87ac-4df0-9a5e-b331bcd5952f",
   "metadata": {},
   "outputs": [
    {
     "name": "stdout",
     "output_type": "stream",
     "text": [
      "(335, 91, 109, 91)\n",
      "(84, 91, 109, 91)\n"
     ]
    }
   ],
   "source": [
    "print(X_train.shape)\n",
    "print(X_test.shape)"
   ]
  },
  {
   "cell_type": "code",
   "execution_count": 29,
   "id": "f5046a9a-fc1f-401c-a1e8-5ea5899cfd75",
   "metadata": {},
   "outputs": [
    {
     "name": "stdout",
     "output_type": "stream",
     "text": [
      "(335, 91, 109, 91, 1)\n",
      "(91, 109, 91, 1)\n"
     ]
    }
   ],
   "source": [
    "X_train_bis = X_train.reshape(335, 91, 109, 91,1)\n",
    "print(X_train_bis.shape)\n",
    "print(X_train_bis[0].shape)"
   ]
  },
  {
   "cell_type": "code",
   "execution_count": 33,
   "id": "77bb981d-0969-4304-9bf1-981d2729ba78",
   "metadata": {},
   "outputs": [
    {
     "name": "stdout",
     "output_type": "stream",
     "text": [
      "(84, 91, 109, 91, 1)\n",
      "(91, 109, 91, 1)\n"
     ]
    }
   ],
   "source": [
    "X_test_bis = X_test.reshape(84, 91, 109, 91,1)\n",
    "print(X_test_bis.shape)\n",
    "print(X_test_bis[0].shape)"
   ]
  },
  {
   "cell_type": "code",
   "execution_count": 40,
   "id": "9adcde85",
   "metadata": {},
   "outputs": [
    {
     "name": "stdout",
     "output_type": "stream",
     "text": [
      "Model: \"sequential_3\"\n",
      "_________________________________________________________________\n",
      " Layer (type)                Output Shape              Param #   \n",
      "=================================================================\n",
      " conv3d_6 (Conv3D)           (None, 89, 107, 89, 32)   896       \n",
      "                                                                 \n",
      " max_pooling3d_6 (MaxPooling  (None, 44, 53, 44, 32)   0         \n",
      " 3D)                                                             \n",
      "                                                                 \n",
      " batch_normalization_6 (Batc  (None, 44, 53, 44, 32)   128       \n",
      " hNormalization)                                                 \n",
      "                                                                 \n",
      " dropout_6 (Dropout)         (None, 44, 53, 44, 32)    0         \n",
      "                                                                 \n",
      " conv3d_7 (Conv3D)           (None, 42, 51, 42, 64)    55360     \n",
      "                                                                 \n",
      " max_pooling3d_7 (MaxPooling  (None, 21, 25, 21, 64)   0         \n",
      " 3D)                                                             \n",
      "                                                                 \n",
      " batch_normalization_7 (Batc  (None, 21, 25, 21, 64)   256       \n",
      " hNormalization)                                                 \n",
      "                                                                 \n",
      " dropout_7 (Dropout)         (None, 21, 25, 21, 64)    0         \n",
      "                                                                 \n",
      " flatten_3 (Flatten)         (None, 705600)            0         \n",
      "                                                                 \n",
      " dense_9 (Dense)             (None, 256)               180633856 \n",
      "                                                                 \n",
      " dense_10 (Dense)            (None, 128)               32896     \n",
      "                                                                 \n",
      " dense_11 (Dense)            (None, 1)                 129       \n",
      "                                                                 \n",
      "=================================================================\n",
      "Total params: 180,723,521\n",
      "Trainable params: 180,723,329\n",
      "Non-trainable params: 192\n",
      "_________________________________________________________________\n"
     ]
    }
   ],
   "source": [
    "import keras\n",
    "from keras.models import Sequential\n",
    "from keras.layers import Dense, Flatten, Conv3D, MaxPooling3D, Dropout, BatchNormalization\n",
    "\n",
    "model = Sequential()\n",
    "# Couches de convolution + MaxPooling\n",
    "model.add(Conv3D(32, kernel_size=(3, 3, 3), activation='relu', kernel_initializer='he_uniform', input_shape=(91,109,91,1)))\n",
    "# input shape = (dim1, dim2,dim3, channels) no need to precise batch_size\n",
    "model.add(MaxPooling3D(pool_size=(2, 2, 2)))\n",
    "model.add(BatchNormalization(center=True, scale=True))\n",
    "model.add(Dropout(0.3))\n",
    "model.add(Conv3D(64, kernel_size=(3, 3, 3), activation='relu', kernel_initializer='he_uniform'))\n",
    "model.add(MaxPooling3D(pool_size=(2, 2, 2)))\n",
    "model.add(BatchNormalization(center=True, scale=True))\n",
    "model.add(Dropout(0.3))\n",
    "# Couches de classification\n",
    "model.add(Flatten())\n",
    "model.add(Dense(256, activation='relu', kernel_initializer='he_uniform'))\n",
    "model.add(Dense(128, activation='relu', kernel_initializer='he_uniform'))\n",
    "model.add(Dense(1, activation='sigmoid'))\n",
    "\n",
    "# Compile the model\n",
    "model.compile(loss='binary_crossentropy',\n",
    "              optimizer=keras.optimizers.Adam(learning_rate=0.001),\n",
    "              metrics=['accuracy'])\n",
    "model.summary()\n",
    "\n",
    "    "
   ]
  },
  {
   "cell_type": "code",
   "execution_count": 41,
   "id": "9dc6cc62",
   "metadata": {},
   "outputs": [
    {
     "name": "stdout",
     "output_type": "stream",
     "text": [
      "Epoch 1/80\n",
      "168/168 [==============================] - 17s 99ms/step - loss: 77.7858 - accuracy: 0.5134 - val_loss: 8.0150 - val_accuracy: 0.6190\n",
      "Epoch 2/80\n",
      "168/168 [==============================] - 16s 94ms/step - loss: 12.3060 - accuracy: 0.6179 - val_loss: 9.0488 - val_accuracy: 0.6310\n",
      "Epoch 3/80\n",
      "168/168 [==============================] - 15s 92ms/step - loss: 4.5170 - accuracy: 0.6716 - val_loss: 3.5441 - val_accuracy: 0.5000\n",
      "Epoch 4/80\n",
      "168/168 [==============================] - 15s 92ms/step - loss: 3.1248 - accuracy: 0.6627 - val_loss: 5.6709 - val_accuracy: 0.4167\n",
      "Epoch 5/80\n",
      "168/168 [==============================] - 16s 95ms/step - loss: 2.3658 - accuracy: 0.7493 - val_loss: 1.6140 - val_accuracy: 0.7262\n",
      "Epoch 6/80\n",
      "168/168 [==============================] - 15s 92ms/step - loss: 0.9392 - accuracy: 0.8657 - val_loss: 1.0225 - val_accuracy: 0.7143\n",
      "Epoch 7/80\n",
      "168/168 [==============================] - 16s 92ms/step - loss: 4.2582 - accuracy: 0.7463 - val_loss: 5.8430 - val_accuracy: 0.6786\n",
      "Epoch 8/80\n",
      "168/168 [==============================] - 16s 95ms/step - loss: 2.6029 - accuracy: 0.7433 - val_loss: 1.6292 - val_accuracy: 0.7381\n",
      "Epoch 9/80\n",
      "168/168 [==============================] - 16s 94ms/step - loss: 0.8188 - accuracy: 0.8657 - val_loss: 1.1374 - val_accuracy: 0.7976\n",
      "Epoch 10/80\n",
      "168/168 [==============================] - 15s 92ms/step - loss: 0.1497 - accuracy: 0.9612 - val_loss: 1.6264 - val_accuracy: 0.7381\n",
      "Epoch 11/80\n",
      "168/168 [==============================] - 16s 92ms/step - loss: 0.2689 - accuracy: 0.9224 - val_loss: 1.2158 - val_accuracy: 0.6667\n",
      "Epoch 12/80\n",
      "168/168 [==============================] - 16s 95ms/step - loss: 0.0440 - accuracy: 0.9791 - val_loss: 1.0821 - val_accuracy: 0.8214\n",
      "Epoch 13/80\n",
      "168/168 [==============================] - 16s 92ms/step - loss: 0.2356 - accuracy: 0.9104 - val_loss: 1.0594 - val_accuracy: 0.8095\n",
      "Epoch 14/80\n",
      "168/168 [==============================] - 16s 92ms/step - loss: 0.2329 - accuracy: 0.9403 - val_loss: 1.3350 - val_accuracy: 0.7024\n",
      "Epoch 15/80\n",
      "168/168 [==============================] - 16s 95ms/step - loss: 0.0721 - accuracy: 0.9761 - val_loss: 1.0088 - val_accuracy: 0.8452\n",
      "Epoch 16/80\n",
      "168/168 [==============================] - 16s 93ms/step - loss: 0.0178 - accuracy: 0.9910 - val_loss: 0.9731 - val_accuracy: 0.8333\n",
      "Epoch 17/80\n",
      "168/168 [==============================] - 16s 92ms/step - loss: 0.0057 - accuracy: 0.9970 - val_loss: 0.9857 - val_accuracy: 0.8333\n",
      "Epoch 18/80\n",
      "168/168 [==============================] - 16s 93ms/step - loss: 0.0026 - accuracy: 0.9970 - val_loss: 0.9854 - val_accuracy: 0.8333\n",
      "Epoch 19/80\n",
      "168/168 [==============================] - 16s 92ms/step - loss: 0.0026 - accuracy: 0.9970 - val_loss: 0.9946 - val_accuracy: 0.8452\n",
      "Epoch 20/80\n",
      "168/168 [==============================] - 15s 92ms/step - loss: 0.0023 - accuracy: 0.9970 - val_loss: 0.9940 - val_accuracy: 0.8452\n",
      "Epoch 21/80\n",
      "168/168 [==============================] - 15s 92ms/step - loss: 0.0024 - accuracy: 0.9970 - val_loss: 1.0408 - val_accuracy: 0.8333\n",
      "Epoch 22/80\n",
      "168/168 [==============================] - 15s 92ms/step - loss: 0.0023 - accuracy: 0.9970 - val_loss: 1.0141 - val_accuracy: 0.8452\n",
      "Epoch 23/80\n",
      "168/168 [==============================] - 15s 92ms/step - loss: 0.0022 - accuracy: 0.9970 - val_loss: 1.0169 - val_accuracy: 0.8333\n",
      "Epoch 24/80\n",
      "168/168 [==============================] - 16s 92ms/step - loss: 0.0023 - accuracy: 0.9970 - val_loss: 1.0604 - val_accuracy: 0.8452\n",
      "Epoch 25/80\n",
      "168/168 [==============================] - ETA: 0s - loss: 0.1728 - accuracy: 0.9552Restoring model weights from the end of the best epoch: 15.\n",
      "168/168 [==============================] - 16s 94ms/step - loss: 0.1728 - accuracy: 0.9552 - val_loss: 0.9531 - val_accuracy: 0.7024\n",
      "Epoch 25: early stopping\n"
     ]
    }
   ],
   "source": [
    "# ajout d'un early stopping \n",
    "callback = tf.keras.callbacks.EarlyStopping(monitor='val_accuracy', patience=10, verbose=1, restore_best_weights=True)\n",
    "\n",
    "history = model.fit(X_train_bis, y_train, epochs=80, validation_data=(X_test_bis, y_test),callbacks=[callback],batch_size=2)"
   ]
  },
  {
   "cell_type": "code",
   "execution_count": 42,
   "id": "6abd1773",
   "metadata": {},
   "outputs": [
    {
     "data": {
      "image/png": "[encoded data removed]",
      "text/plain": [
       "<Figure size 640x480 with 1 Axes>"
      ]
     },
     "metadata": {},
     "output_type": "display_data"
    },
    {
     "data": {
      "image/png": "[encoded data removed]",
      "text/plain": [
       "<Figure size 640x480 with 1 Axes>"
      ]
     },
     "metadata": {},
     "output_type": "display_data"
    }
   ],
   "source": [
    "def plot_loss_curves(history):\n",
    "    \n",
    "      \n",
    "    loss = history.history['loss']\n",
    "    val_loss = history.history['val_loss']\n",
    "\n",
    "    accuracy = history.history['accuracy']\n",
    "    val_accuracy = history.history['val_accuracy']\n",
    "\n",
    "    epochs = range(len(history.history['loss']))\n",
    "\n",
    "    # Plot loss\n",
    "    plt.plot(epochs, loss, label='training_loss')\n",
    "    plt.plot(epochs, val_loss, label='val_loss')\n",
    "    plt.title('Loss')\n",
    "    plt.xlabel('Epochs')\n",
    "    plt.legend()\n",
    "\n",
    "    # Plot accuracy\n",
    "    plt.figure()\n",
    "    plt.plot(epochs, accuracy, label='training_accuracy')\n",
    "    plt.plot(epochs, val_accuracy, label='val_accuracy')\n",
    "    plt.title('Accuracy')\n",
    "    plt.xlabel('Epochs')\n",
    "    plt.legend()\n",
    "\n",
    "plot_loss_curves(history)"
   ]
  },
  {
   "cell_type": "code",
   "execution_count": 43,
   "id": "879fd63a-73b5-4522-8a7b-48a6c58cb154",
   "metadata": {},
   "outputs": [
    {
     "name": "stdout",
     "output_type": "stream",
     "text": [
      " Best val_accuracy value : 0.8452380895614624 \n"
     ]
    }
   ],
   "source": [
    "best_val_accuracy = np.max(history.history['val_accuracy'])\n",
    "print(' Best val_accuracy value : {} '.format(best_val_accuracy))"
   ]
  },
  {
   "cell_type": "code",
   "execution_count": null,
   "id": "01c07b5d-4514-4317-b826-e16a5374d2f0",
   "metadata": {},
   "outputs": [],
   "source": []
  }
 ],
 "metadata": {
  "kernelspec": {
   "display_name": "Python 3 (ipykernel)",
   "language": "python",
   "name": "python3"
  },
  "language_info": {
   "codemirror_mode": {
    "name": "ipython",
    "version": 3
   },
   "file_extension": ".py",
   "mimetype": "text/x-python",
   "name": "python",
   "nbconvert_exporter": "python",
   "pygments_lexer": "ipython3",
   "version": "3.10.6"
  },
  "vscode": {
   "interpreter": {
    "hash": "916dbcbb3f70747c44a77c7bcd40155683ae19c65e1c03b4aa3499c5328201f1"
   }
  }
 },
 "nbformat": 4,
 "nbformat_minor": 5
}
