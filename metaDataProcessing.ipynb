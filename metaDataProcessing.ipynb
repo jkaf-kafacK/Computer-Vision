{
 "cells": [
  {
   "cell_type": "code",
   "execution_count": 1,
   "id": "e517207d-0979-4eb2-aef6-c163da3fcb68",
   "metadata": {},
   "outputs": [],
   "source": [
    "import nibabel as nib\n",
    "import os\n",
    "import numpy as np\n",
    "import pandas as pd"
   ]
  },
  {
   "cell_type": "code",
   "execution_count": 2,
   "id": "b3cb0f9c-71f7-4e6a-a3af-06ee907157fb",
   "metadata": {},
   "outputs": [
    {
     "data": {
      "text/plain": [
       "'\\n1: Subject ID\\n2: Rooster ID (4 last digits of subject ID)\\n3: Age\\n4: Sexe (0=female, 1=male)\\n5: Group (CN, EMCI, LMCI, AD)\\n6: Conversion (-1: CN/AD at baseline, 1: 16 months, 2: 24 months, 3: 36 months, 4: sMCI/no conversion after 36 months, 5: unknown)\\n7: MMSE\\n8: RAVLT\\n9: FAQ\\n10: CDR-SB\\n11: ADAS11\\n12: ADAS13\\n\\nTo separate sMCI and pMCI:\\n- pMCI: conversion = 1, 2 or 3\\n- sMCI: conversion = 4\\n'"
      ]
     },
     "execution_count": 2,
     "metadata": {},
     "output_type": "execute_result"
    }
   ],
   "source": [
    "'''\n",
    "1: Subject ID\n",
    "2: Rooster ID (4 last digits of subject ID)\n",
    "3: Age\n",
    "4: Sexe (0=female, 1=male)\n",
    "5: Group (CN, EMCI, LMCI, AD)\n",
    "6: Conversion (-1: CN/AD at baseline, 1: 16 months, 2: 24 months, 3: 36 months, 4: sMCI/no conversion after 36 months, 5: unknown)\n",
    "7: MMSE\n",
    "8: RAVLT\n",
    "9: FAQ\n",
    "10: CDR-SB\n",
    "11: ADAS11\n",
    "12: ADAS13\n",
    "\n",
    "To separate sMCI and pMCI:\n",
    "- pMCI: conversion = 1, 2 or 3\n",
    "- sMCI: conversion = 4\n",
    "'''"
   ]
  },
  {
   "cell_type": "code",
   "execution_count": 3,
   "id": "3845ad64-39b7-4b48-bfdc-3848d9d1ee48",
   "metadata": {},
   "outputs": [],
   "source": [
    "header_data = ['Subject ID','Rooster ID', 'Age', 'Sexe', 'Group', 'Conversion', 'MMSE', 'RAVLT', 'FAQ', 'CDR-SB','ADAS11']"
   ]
  },
  {
   "cell_type": "code",
   "execution_count": 4,
   "id": "eb69e4f6-873c-4b81-9fb3-b581d5d7c609",
   "metadata": {},
   "outputs": [],
   "source": [
    "data = pd.read_csv('/home/coleger/Desktop/CV/Alz/ADNI1/list_standardized_tongtong_2017.csv')"
   ]
  },
  {
   "cell_type": "code",
   "execution_count": 5,
   "id": "d213ab65-1621-4397-97b9-ae2736a98757",
   "metadata": {},
   "outputs": [
    {
     "data": {
      "text/html": [
       "<div>\n",
       "<style scoped>\n",
       "    .dataframe tbody tr th:only-of-type {\n",
       "        vertical-align: middle;\n",
       "    }\n",
       "\n",
       "    .dataframe tbody tr th {\n",
       "        vertical-align: top;\n",
       "    }\n",
       "\n",
       "    .dataframe thead th {\n",
       "        text-align: right;\n",
       "    }\n",
       "</style>\n",
       "<table border=\"1\" class=\"dataframe\">\n",
       "  <thead>\n",
       "    <tr style=\"text-align: right;\">\n",
       "      <th></th>\n",
       "      <th>002_S_0295</th>\n",
       "      <th>295</th>\n",
       "      <th>84.8</th>\n",
       "      <th>1</th>\n",
       "      <th>CN</th>\n",
       "      <th>-1</th>\n",
       "      <th>28</th>\n",
       "      <th>56</th>\n",
       "      <th>0</th>\n",
       "      <th>3.00</th>\n",
       "      <th>3.00.1</th>\n",
       "    </tr>\n",
       "  </thead>\n",
       "  <tbody>\n",
       "    <tr>\n",
       "      <th>0</th>\n",
       "      <td>002_S_0413</td>\n",
       "      <td>413</td>\n",
       "      <td>76.3</td>\n",
       "      <td>0</td>\n",
       "      <td>CN</td>\n",
       "      <td>-1</td>\n",
       "      <td>29</td>\n",
       "      <td>52</td>\n",
       "      <td>0</td>\n",
       "      <td>3.33</td>\n",
       "      <td>3.33</td>\n",
       "    </tr>\n",
       "    <tr>\n",
       "      <th>1</th>\n",
       "      <td>002_S_0559</td>\n",
       "      <td>559</td>\n",
       "      <td>79.3</td>\n",
       "      <td>1</td>\n",
       "      <td>CN</td>\n",
       "      <td>-1</td>\n",
       "      <td>30</td>\n",
       "      <td>48</td>\n",
       "      <td>0</td>\n",
       "      <td>6.00</td>\n",
       "      <td>6.00</td>\n",
       "    </tr>\n",
       "    <tr>\n",
       "      <th>2</th>\n",
       "      <td>002_S_0619</td>\n",
       "      <td>619</td>\n",
       "      <td>77.5</td>\n",
       "      <td>1</td>\n",
       "      <td>AD</td>\n",
       "      <td>-1</td>\n",
       "      <td>22</td>\n",
       "      <td>19</td>\n",
       "      <td>25</td>\n",
       "      <td>19.33</td>\n",
       "      <td>19.33</td>\n",
       "    </tr>\n",
       "    <tr>\n",
       "      <th>3</th>\n",
       "      <td>002_S_0685</td>\n",
       "      <td>685</td>\n",
       "      <td>89.6</td>\n",
       "      <td>0</td>\n",
       "      <td>CN</td>\n",
       "      <td>-1</td>\n",
       "      <td>30</td>\n",
       "      <td>36</td>\n",
       "      <td>0</td>\n",
       "      <td>3.67</td>\n",
       "      <td>3.67</td>\n",
       "    </tr>\n",
       "    <tr>\n",
       "      <th>4</th>\n",
       "      <td>002_S_0729</td>\n",
       "      <td>729</td>\n",
       "      <td>65.1</td>\n",
       "      <td>0</td>\n",
       "      <td>MCI</td>\n",
       "      <td>3</td>\n",
       "      <td>27</td>\n",
       "      <td>38</td>\n",
       "      <td>7</td>\n",
       "      <td>6.67</td>\n",
       "      <td>6.67</td>\n",
       "    </tr>\n",
       "  </tbody>\n",
       "</table>\n",
       "</div>"
      ],
      "text/plain": [
       "   002_S_0295  295  84.8  1   CN  -1  28  56   0   3.00  3.00.1\n",
       "0  002_S_0413  413  76.3  0   CN  -1  29  52   0   3.33    3.33\n",
       "1  002_S_0559  559  79.3  1   CN  -1  30  48   0   6.00    6.00\n",
       "2  002_S_0619  619  77.5  1   AD  -1  22  19  25  19.33   19.33\n",
       "3  002_S_0685  685  89.6  0   CN  -1  30  36   0   3.67    3.67\n",
       "4  002_S_0729  729  65.1  0  MCI   3  27  38   7   6.67    6.67"
      ]
     },
     "execution_count": 5,
     "metadata": {},
     "output_type": "execute_result"
    }
   ],
   "source": [
    "data.head()"
   ]
  },
  {
   "cell_type": "code",
   "execution_count": 6,
   "id": "5ba0f809-9322-4702-ae16-7a1a33153f1f",
   "metadata": {},
   "outputs": [
    {
     "data": {
      "text/html": [
       "<div>\n",
       "<style scoped>\n",
       "    .dataframe tbody tr th:only-of-type {\n",
       "        vertical-align: middle;\n",
       "    }\n",
       "\n",
       "    .dataframe tbody tr th {\n",
       "        vertical-align: top;\n",
       "    }\n",
       "\n",
       "    .dataframe thead th {\n",
       "        text-align: right;\n",
       "    }\n",
       "</style>\n",
       "<table border=\"1\" class=\"dataframe\">\n",
       "  <thead>\n",
       "    <tr style=\"text-align: right;\">\n",
       "      <th></th>\n",
       "      <th>Subject ID</th>\n",
       "      <th>Rooster ID</th>\n",
       "      <th>Age</th>\n",
       "      <th>Sexe</th>\n",
       "      <th>Group</th>\n",
       "      <th>Conversion</th>\n",
       "      <th>MMSE</th>\n",
       "      <th>RAVLT</th>\n",
       "      <th>FAQ</th>\n",
       "      <th>CDR-SB</th>\n",
       "      <th>ADAS11</th>\n",
       "    </tr>\n",
       "  </thead>\n",
       "  <tbody>\n",
       "    <tr>\n",
       "      <th>0</th>\n",
       "      <td>002_S_0413</td>\n",
       "      <td>413</td>\n",
       "      <td>76.3</td>\n",
       "      <td>0</td>\n",
       "      <td>CN</td>\n",
       "      <td>-1</td>\n",
       "      <td>29</td>\n",
       "      <td>52</td>\n",
       "      <td>0</td>\n",
       "      <td>3.33</td>\n",
       "      <td>3.33</td>\n",
       "    </tr>\n",
       "    <tr>\n",
       "      <th>1</th>\n",
       "      <td>002_S_0559</td>\n",
       "      <td>559</td>\n",
       "      <td>79.3</td>\n",
       "      <td>1</td>\n",
       "      <td>CN</td>\n",
       "      <td>-1</td>\n",
       "      <td>30</td>\n",
       "      <td>48</td>\n",
       "      <td>0</td>\n",
       "      <td>6.00</td>\n",
       "      <td>6.00</td>\n",
       "    </tr>\n",
       "    <tr>\n",
       "      <th>2</th>\n",
       "      <td>002_S_0619</td>\n",
       "      <td>619</td>\n",
       "      <td>77.5</td>\n",
       "      <td>1</td>\n",
       "      <td>AD</td>\n",
       "      <td>-1</td>\n",
       "      <td>22</td>\n",
       "      <td>19</td>\n",
       "      <td>25</td>\n",
       "      <td>19.33</td>\n",
       "      <td>19.33</td>\n",
       "    </tr>\n",
       "    <tr>\n",
       "      <th>3</th>\n",
       "      <td>002_S_0685</td>\n",
       "      <td>685</td>\n",
       "      <td>89.6</td>\n",
       "      <td>0</td>\n",
       "      <td>CN</td>\n",
       "      <td>-1</td>\n",
       "      <td>30</td>\n",
       "      <td>36</td>\n",
       "      <td>0</td>\n",
       "      <td>3.67</td>\n",
       "      <td>3.67</td>\n",
       "    </tr>\n",
       "    <tr>\n",
       "      <th>4</th>\n",
       "      <td>002_S_0729</td>\n",
       "      <td>729</td>\n",
       "      <td>65.1</td>\n",
       "      <td>0</td>\n",
       "      <td>MCI</td>\n",
       "      <td>3</td>\n",
       "      <td>27</td>\n",
       "      <td>38</td>\n",
       "      <td>7</td>\n",
       "      <td>6.67</td>\n",
       "      <td>6.67</td>\n",
       "    </tr>\n",
       "  </tbody>\n",
       "</table>\n",
       "</div>"
      ],
      "text/plain": [
       "   Subject ID  Rooster ID   Age  Sexe Group  Conversion  MMSE  RAVLT  FAQ  \\\n",
       "0  002_S_0413         413  76.3     0    CN          -1    29     52    0   \n",
       "1  002_S_0559         559  79.3     1    CN          -1    30     48    0   \n",
       "2  002_S_0619         619  77.5     1    AD          -1    22     19   25   \n",
       "3  002_S_0685         685  89.6     0    CN          -1    30     36    0   \n",
       "4  002_S_0729         729  65.1     0   MCI           3    27     38    7   \n",
       "\n",
       "   CDR-SB  ADAS11  \n",
       "0    3.33    3.33  \n",
       "1    6.00    6.00  \n",
       "2   19.33   19.33  \n",
       "3    3.67    3.67  \n",
       "4    6.67    6.67  "
      ]
     },
     "execution_count": 6,
     "metadata": {},
     "output_type": "execute_result"
    }
   ],
   "source": [
    "data.columns = header_data\n",
    "data.head()"
   ]
  },
  {
   "cell_type": "code",
   "execution_count": 7,
   "id": "40f5906a-1bd2-4bb4-86af-a9489c5174b7",
   "metadata": {},
   "outputs": [
    {
     "data": {
      "text/html": [
       "<div>\n",
       "<style scoped>\n",
       "    .dataframe tbody tr th:only-of-type {\n",
       "        vertical-align: middle;\n",
       "    }\n",
       "\n",
       "    .dataframe tbody tr th {\n",
       "        vertical-align: top;\n",
       "    }\n",
       "\n",
       "    .dataframe thead th {\n",
       "        text-align: right;\n",
       "    }\n",
       "</style>\n",
       "<table border=\"1\" class=\"dataframe\">\n",
       "  <thead>\n",
       "    <tr style=\"text-align: right;\">\n",
       "      <th></th>\n",
       "      <th>Subject ID</th>\n",
       "      <th>Rooster ID</th>\n",
       "      <th>Age</th>\n",
       "      <th>Sexe</th>\n",
       "      <th>Group</th>\n",
       "      <th>Conversion</th>\n",
       "    </tr>\n",
       "  </thead>\n",
       "  <tbody>\n",
       "    <tr>\n",
       "      <th>0</th>\n",
       "      <td>002_S_0413</td>\n",
       "      <td>413</td>\n",
       "      <td>76.3</td>\n",
       "      <td>0</td>\n",
       "      <td>CN</td>\n",
       "      <td>-1</td>\n",
       "    </tr>\n",
       "    <tr>\n",
       "      <th>1</th>\n",
       "      <td>002_S_0559</td>\n",
       "      <td>559</td>\n",
       "      <td>79.3</td>\n",
       "      <td>1</td>\n",
       "      <td>CN</td>\n",
       "      <td>-1</td>\n",
       "    </tr>\n",
       "    <tr>\n",
       "      <th>2</th>\n",
       "      <td>002_S_0619</td>\n",
       "      <td>619</td>\n",
       "      <td>77.5</td>\n",
       "      <td>1</td>\n",
       "      <td>AD</td>\n",
       "      <td>-1</td>\n",
       "    </tr>\n",
       "    <tr>\n",
       "      <th>3</th>\n",
       "      <td>002_S_0685</td>\n",
       "      <td>685</td>\n",
       "      <td>89.6</td>\n",
       "      <td>0</td>\n",
       "      <td>CN</td>\n",
       "      <td>-1</td>\n",
       "    </tr>\n",
       "    <tr>\n",
       "      <th>4</th>\n",
       "      <td>002_S_0729</td>\n",
       "      <td>729</td>\n",
       "      <td>65.1</td>\n",
       "      <td>0</td>\n",
       "      <td>MCI</td>\n",
       "      <td>3</td>\n",
       "    </tr>\n",
       "  </tbody>\n",
       "</table>\n",
       "</div>"
      ],
      "text/plain": [
       "   Subject ID  Rooster ID   Age  Sexe Group  Conversion\n",
       "0  002_S_0413         413  76.3     0    CN          -1\n",
       "1  002_S_0559         559  79.3     1    CN          -1\n",
       "2  002_S_0619         619  77.5     1    AD          -1\n",
       "3  002_S_0685         685  89.6     0    CN          -1\n",
       "4  002_S_0729         729  65.1     0   MCI           3"
      ]
     },
     "execution_count": 7,
     "metadata": {},
     "output_type": "execute_result"
    }
   ],
   "source": [
    "new_data = data[['Subject ID','Rooster ID', 'Age', 'Sexe', 'Group', 'Conversion']]\n",
    "new_data.head()"
   ]
  },
  {
   "cell_type": "code",
   "execution_count": 8,
   "id": "ac8f6578-91a5-4e39-abde-6b23a12eac70",
   "metadata": {},
   "outputs": [
    {
     "name": "stderr",
     "output_type": "stream",
     "text": [
      "/tmp/ipykernel_6991/3016184317.py:2: SettingWithCopyWarning: \n",
      "A value is trying to be set on a copy of a slice from a DataFrame\n",
      "\n",
      "See the caveats in the documentation: https://pandas.pydata.org/pandas-docs/stable/user_guide/indexing.html#returning-a-view-versus-a-copy\n",
      "  new_data['Conversion'].replace(to_replace =1, value ='pMCI', inplace=True)\n",
      "/tmp/ipykernel_6991/3016184317.py:3: SettingWithCopyWarning: \n",
      "A value is trying to be set on a copy of a slice from a DataFrame\n",
      "\n",
      "See the caveats in the documentation: https://pandas.pydata.org/pandas-docs/stable/user_guide/indexing.html#returning-a-view-versus-a-copy\n",
      "  new_data['Conversion'].replace(to_replace =2, value ='pMCI', inplace=True)\n",
      "/tmp/ipykernel_6991/3016184317.py:4: SettingWithCopyWarning: \n",
      "A value is trying to be set on a copy of a slice from a DataFrame\n",
      "\n",
      "See the caveats in the documentation: https://pandas.pydata.org/pandas-docs/stable/user_guide/indexing.html#returning-a-view-versus-a-copy\n",
      "  new_data['Conversion'].replace(to_replace =3, value ='pMCI', inplace=True)\n",
      "/tmp/ipykernel_6991/3016184317.py:6: SettingWithCopyWarning: \n",
      "A value is trying to be set on a copy of a slice from a DataFrame\n",
      "\n",
      "See the caveats in the documentation: https://pandas.pydata.org/pandas-docs/stable/user_guide/indexing.html#returning-a-view-versus-a-copy\n",
      "  new_data['Conversion'].replace(to_replace =4, value ='sMCI', inplace=True)\n",
      "/tmp/ipykernel_6991/3016184317.py:9: SettingWithCopyWarning: \n",
      "A value is trying to be set on a copy of a slice from a DataFrame\n",
      "\n",
      "See the caveats in the documentation: https://pandas.pydata.org/pandas-docs/stable/user_guide/indexing.html#returning-a-view-versus-a-copy\n",
      "  new_data['Sexe'].replace(to_replace =0, value ='female', inplace=True)\n",
      "/tmp/ipykernel_6991/3016184317.py:10: SettingWithCopyWarning: \n",
      "A value is trying to be set on a copy of a slice from a DataFrame\n",
      "\n",
      "See the caveats in the documentation: https://pandas.pydata.org/pandas-docs/stable/user_guide/indexing.html#returning-a-view-versus-a-copy\n",
      "  new_data['Sexe'].replace(to_replace =1, value ='male', inplace=True)\n"
     ]
    },
    {
     "data": {
      "text/html": [
       "<div>\n",
       "<style scoped>\n",
       "    .dataframe tbody tr th:only-of-type {\n",
       "        vertical-align: middle;\n",
       "    }\n",
       "\n",
       "    .dataframe tbody tr th {\n",
       "        vertical-align: top;\n",
       "    }\n",
       "\n",
       "    .dataframe thead th {\n",
       "        text-align: right;\n",
       "    }\n",
       "</style>\n",
       "<table border=\"1\" class=\"dataframe\">\n",
       "  <thead>\n",
       "    <tr style=\"text-align: right;\">\n",
       "      <th></th>\n",
       "      <th>Subject ID</th>\n",
       "      <th>Rooster ID</th>\n",
       "      <th>Age</th>\n",
       "      <th>Sexe</th>\n",
       "      <th>Group</th>\n",
       "      <th>Conversion</th>\n",
       "    </tr>\n",
       "  </thead>\n",
       "  <tbody>\n",
       "    <tr>\n",
       "      <th>0</th>\n",
       "      <td>002_S_0413</td>\n",
       "      <td>413</td>\n",
       "      <td>76.3</td>\n",
       "      <td>female</td>\n",
       "      <td>CN</td>\n",
       "      <td>-1</td>\n",
       "    </tr>\n",
       "    <tr>\n",
       "      <th>1</th>\n",
       "      <td>002_S_0559</td>\n",
       "      <td>559</td>\n",
       "      <td>79.3</td>\n",
       "      <td>male</td>\n",
       "      <td>CN</td>\n",
       "      <td>-1</td>\n",
       "    </tr>\n",
       "    <tr>\n",
       "      <th>2</th>\n",
       "      <td>002_S_0619</td>\n",
       "      <td>619</td>\n",
       "      <td>77.5</td>\n",
       "      <td>male</td>\n",
       "      <td>AD</td>\n",
       "      <td>-1</td>\n",
       "    </tr>\n",
       "    <tr>\n",
       "      <th>3</th>\n",
       "      <td>002_S_0685</td>\n",
       "      <td>685</td>\n",
       "      <td>89.6</td>\n",
       "      <td>female</td>\n",
       "      <td>CN</td>\n",
       "      <td>-1</td>\n",
       "    </tr>\n",
       "    <tr>\n",
       "      <th>4</th>\n",
       "      <td>002_S_0729</td>\n",
       "      <td>729</td>\n",
       "      <td>65.1</td>\n",
       "      <td>female</td>\n",
       "      <td>MCI</td>\n",
       "      <td>pMCI</td>\n",
       "    </tr>\n",
       "  </tbody>\n",
       "</table>\n",
       "</div>"
      ],
      "text/plain": [
       "   Subject ID  Rooster ID   Age    Sexe Group Conversion\n",
       "0  002_S_0413         413  76.3  female    CN         -1\n",
       "1  002_S_0559         559  79.3    male    CN         -1\n",
       "2  002_S_0619         619  77.5    male    AD         -1\n",
       "3  002_S_0685         685  89.6  female    CN         -1\n",
       "4  002_S_0729         729  65.1  female   MCI       pMCI"
      ]
     },
     "execution_count": 8,
     "metadata": {},
     "output_type": "execute_result"
    }
   ],
   "source": [
    "# Changement des noms pour la colonne conversion\n",
    "new_data['Conversion'].replace(to_replace =1, value ='pMCI', inplace=True)\n",
    "new_data['Conversion'].replace(to_replace =2, value ='pMCI', inplace=True)\n",
    "new_data['Conversion'].replace(to_replace =3, value ='pMCI', inplace=True)\n",
    "\n",
    "new_data['Conversion'].replace(to_replace =4, value ='sMCI', inplace=True)\n",
    "\n",
    "# Changement des noms pour la colonne Sexe\n",
    "new_data['Sexe'].replace(to_replace =0, value ='female', inplace=True)\n",
    "new_data['Sexe'].replace(to_replace =1, value ='male', inplace=True)\n",
    "\n",
    "\n",
    "new_data.head()"
   ]
  },
  {
   "cell_type": "code",
   "execution_count": 9,
   "id": "69ec1bc4-9dd3-457a-bc70-2b8a01d911e3",
   "metadata": {},
   "outputs": [
    {
     "data": {
      "text/plain": [
       "-1      419\n",
       "pMCI    171\n",
       "sMCI    129\n",
       "5        98\n",
       "Name: Conversion, dtype: int64"
      ]
     },
     "execution_count": 9,
     "metadata": {},
     "output_type": "execute_result"
    }
   ],
   "source": [
    "new_data.Conversion.value_counts()"
   ]
  },
  {
   "cell_type": "markdown",
   "id": "5709b6f8-6c2f-47ea-a7ee-d8af50718e6f",
   "metadata": {},
   "source": [
    "### One hot encoding sur CN et AD sMCI et pMCI"
   ]
  },
  {
   "cell_type": "code",
   "execution_count": 10,
   "id": "ee3f330e-8bf9-449f-8660-1bb7ad6f0914",
   "metadata": {},
   "outputs": [
    {
     "data": {
      "text/html": [
       "<div>\n",
       "<style scoped>\n",
       "    .dataframe tbody tr th:only-of-type {\n",
       "        vertical-align: middle;\n",
       "    }\n",
       "\n",
       "    .dataframe tbody tr th {\n",
       "        vertical-align: top;\n",
       "    }\n",
       "\n",
       "    .dataframe thead th {\n",
       "        text-align: right;\n",
       "    }\n",
       "</style>\n",
       "<table border=\"1\" class=\"dataframe\">\n",
       "  <thead>\n",
       "    <tr style=\"text-align: right;\">\n",
       "      <th></th>\n",
       "      <th>Subject ID</th>\n",
       "      <th>Rooster ID</th>\n",
       "      <th>Age</th>\n",
       "      <th>Group_AD</th>\n",
       "      <th>Group_CN</th>\n",
       "      <th>Conversion_pMCI</th>\n",
       "      <th>Conversion_sMCI</th>\n",
       "      <th>Sexe_female</th>\n",
       "      <th>Sexe_male</th>\n",
       "    </tr>\n",
       "  </thead>\n",
       "  <tbody>\n",
       "    <tr>\n",
       "      <th>0</th>\n",
       "      <td>002_S_0413</td>\n",
       "      <td>413</td>\n",
       "      <td>76.3</td>\n",
       "      <td>0</td>\n",
       "      <td>1</td>\n",
       "      <td>0</td>\n",
       "      <td>0</td>\n",
       "      <td>1</td>\n",
       "      <td>0</td>\n",
       "    </tr>\n",
       "    <tr>\n",
       "      <th>1</th>\n",
       "      <td>002_S_0559</td>\n",
       "      <td>559</td>\n",
       "      <td>79.3</td>\n",
       "      <td>0</td>\n",
       "      <td>1</td>\n",
       "      <td>0</td>\n",
       "      <td>0</td>\n",
       "      <td>0</td>\n",
       "      <td>1</td>\n",
       "    </tr>\n",
       "    <tr>\n",
       "      <th>2</th>\n",
       "      <td>002_S_0619</td>\n",
       "      <td>619</td>\n",
       "      <td>77.5</td>\n",
       "      <td>1</td>\n",
       "      <td>0</td>\n",
       "      <td>0</td>\n",
       "      <td>0</td>\n",
       "      <td>0</td>\n",
       "      <td>1</td>\n",
       "    </tr>\n",
       "    <tr>\n",
       "      <th>3</th>\n",
       "      <td>002_S_0685</td>\n",
       "      <td>685</td>\n",
       "      <td>89.6</td>\n",
       "      <td>0</td>\n",
       "      <td>1</td>\n",
       "      <td>0</td>\n",
       "      <td>0</td>\n",
       "      <td>1</td>\n",
       "      <td>0</td>\n",
       "    </tr>\n",
       "    <tr>\n",
       "      <th>4</th>\n",
       "      <td>002_S_0729</td>\n",
       "      <td>729</td>\n",
       "      <td>65.1</td>\n",
       "      <td>0</td>\n",
       "      <td>0</td>\n",
       "      <td>1</td>\n",
       "      <td>0</td>\n",
       "      <td>1</td>\n",
       "      <td>0</td>\n",
       "    </tr>\n",
       "  </tbody>\n",
       "</table>\n",
       "</div>"
      ],
      "text/plain": [
       "   Subject ID  Rooster ID   Age  Group_AD  Group_CN  Conversion_pMCI  \\\n",
       "0  002_S_0413         413  76.3         0         1                0   \n",
       "1  002_S_0559         559  79.3         0         1                0   \n",
       "2  002_S_0619         619  77.5         1         0                0   \n",
       "3  002_S_0685         685  89.6         0         1                0   \n",
       "4  002_S_0729         729  65.1         0         0                1   \n",
       "\n",
       "   Conversion_sMCI  Sexe_female  Sexe_male  \n",
       "0                0            1          0  \n",
       "1                0            0          1  \n",
       "2                0            0          1  \n",
       "3                0            1          0  \n",
       "4                0            1          0  "
      ]
     },
     "execution_count": 10,
     "metadata": {},
     "output_type": "execute_result"
    }
   ],
   "source": [
    "data_clean = pd.get_dummies(data=new_data, columns=['Group','Conversion','Sexe'])\n",
    "data_clean.drop('Group_MCI', inplace=True, axis=1)\n",
    "data_clean.drop('Conversion_-1', inplace=True, axis=1)\n",
    "data_clean.drop('Conversion_5', inplace=True, axis=1)\n",
    "\n",
    "data_clean.head()"
   ]
  },
  {
   "cell_type": "code",
   "execution_count": 11,
   "id": "598c5577-28f0-4810-9151-707186810241",
   "metadata": {},
   "outputs": [
    {
     "data": {
      "text/html": [
       "<div>\n",
       "<style scoped>\n",
       "    .dataframe tbody tr th:only-of-type {\n",
       "        vertical-align: middle;\n",
       "    }\n",
       "\n",
       "    .dataframe tbody tr th {\n",
       "        vertical-align: top;\n",
       "    }\n",
       "\n",
       "    .dataframe thead th {\n",
       "        text-align: right;\n",
       "    }\n",
       "</style>\n",
       "<table border=\"1\" class=\"dataframe\">\n",
       "  <thead>\n",
       "    <tr style=\"text-align: right;\">\n",
       "      <th></th>\n",
       "      <th>Subject ID</th>\n",
       "      <th>Rooster ID</th>\n",
       "      <th>Age</th>\n",
       "      <th>AD</th>\n",
       "      <th>CN</th>\n",
       "      <th>pMCI</th>\n",
       "      <th>sMCI</th>\n",
       "      <th>Sexe_female</th>\n",
       "      <th>Sexe_male</th>\n",
       "    </tr>\n",
       "  </thead>\n",
       "  <tbody>\n",
       "    <tr>\n",
       "      <th>0</th>\n",
       "      <td>002_S_0413</td>\n",
       "      <td>413</td>\n",
       "      <td>76.3</td>\n",
       "      <td>0</td>\n",
       "      <td>1</td>\n",
       "      <td>0</td>\n",
       "      <td>0</td>\n",
       "      <td>1</td>\n",
       "      <td>0</td>\n",
       "    </tr>\n",
       "    <tr>\n",
       "      <th>1</th>\n",
       "      <td>002_S_0559</td>\n",
       "      <td>559</td>\n",
       "      <td>79.3</td>\n",
       "      <td>0</td>\n",
       "      <td>1</td>\n",
       "      <td>0</td>\n",
       "      <td>0</td>\n",
       "      <td>0</td>\n",
       "      <td>1</td>\n",
       "    </tr>\n",
       "    <tr>\n",
       "      <th>2</th>\n",
       "      <td>002_S_0619</td>\n",
       "      <td>619</td>\n",
       "      <td>77.5</td>\n",
       "      <td>1</td>\n",
       "      <td>0</td>\n",
       "      <td>0</td>\n",
       "      <td>0</td>\n",
       "      <td>0</td>\n",
       "      <td>1</td>\n",
       "    </tr>\n",
       "    <tr>\n",
       "      <th>3</th>\n",
       "      <td>002_S_0685</td>\n",
       "      <td>685</td>\n",
       "      <td>89.6</td>\n",
       "      <td>0</td>\n",
       "      <td>1</td>\n",
       "      <td>0</td>\n",
       "      <td>0</td>\n",
       "      <td>1</td>\n",
       "      <td>0</td>\n",
       "    </tr>\n",
       "    <tr>\n",
       "      <th>4</th>\n",
       "      <td>002_S_0729</td>\n",
       "      <td>729</td>\n",
       "      <td>65.1</td>\n",
       "      <td>0</td>\n",
       "      <td>0</td>\n",
       "      <td>1</td>\n",
       "      <td>0</td>\n",
       "      <td>1</td>\n",
       "      <td>0</td>\n",
       "    </tr>\n",
       "  </tbody>\n",
       "</table>\n",
       "</div>"
      ],
      "text/plain": [
       "   Subject ID  Rooster ID   Age  AD  CN  pMCI  sMCI  Sexe_female  Sexe_male\n",
       "0  002_S_0413         413  76.3   0   1     0     0            1          0\n",
       "1  002_S_0559         559  79.3   0   1     0     0            0          1\n",
       "2  002_S_0619         619  77.5   1   0     0     0            0          1\n",
       "3  002_S_0685         685  89.6   0   1     0     0            1          0\n",
       "4  002_S_0729         729  65.1   0   0     1     0            1          0"
      ]
     },
     "execution_count": 11,
     "metadata": {},
     "output_type": "execute_result"
    }
   ],
   "source": [
    "data_clean.rename(columns = {'Group_AD':'AD', 'Group_CN':'CN',\n",
    "                              'Conversion_pMCI':'pMCI','Conversion_sMCI':'sMCI'}, inplace = True)\n",
    "data_clean.head()"
   ]
  },
  {
   "cell_type": "markdown",
   "id": "facce449-f6cc-49e3-8bb5-33520201065e",
   "metadata": {
    "tags": []
   },
   "source": [
    "construire name à partir de subject ID"
   ]
  },
  {
   "cell_type": "code",
   "execution_count": 12,
   "id": "d7428881-5521-4356-bd32-3ba83f905719",
   "metadata": {},
   "outputs": [
    {
     "data": {
      "text/html": [
       "<div>\n",
       "<style scoped>\n",
       "    .dataframe tbody tr th:only-of-type {\n",
       "        vertical-align: middle;\n",
       "    }\n",
       "\n",
       "    .dataframe tbody tr th {\n",
       "        vertical-align: top;\n",
       "    }\n",
       "\n",
       "    .dataframe thead th {\n",
       "        text-align: right;\n",
       "    }\n",
       "</style>\n",
       "<table border=\"1\" class=\"dataframe\">\n",
       "  <thead>\n",
       "    <tr style=\"text-align: right;\">\n",
       "      <th></th>\n",
       "      <th>Subject ID</th>\n",
       "      <th>Rooster ID</th>\n",
       "      <th>Age</th>\n",
       "      <th>AD</th>\n",
       "      <th>CN</th>\n",
       "      <th>pMCI</th>\n",
       "      <th>sMCI</th>\n",
       "      <th>Sexe_female</th>\n",
       "      <th>Sexe_male</th>\n",
       "      <th>mask_filename</th>\n",
       "      <th>MRI_filename</th>\n",
       "    </tr>\n",
       "  </thead>\n",
       "  <tbody>\n",
       "    <tr>\n",
       "      <th>0</th>\n",
       "      <td>002_S_0413</td>\n",
       "      <td>413</td>\n",
       "      <td>76.3</td>\n",
       "      <td>0</td>\n",
       "      <td>1</td>\n",
       "      <td>0</td>\n",
       "      <td>0</td>\n",
       "      <td>1</td>\n",
       "      <td>0</td>\n",
       "      <td>mask_n_mmni_fADNI_002_S_0413_1.5T_t1w.nii.gz</td>\n",
       "      <td>n_mmni_fADNI_002_S_0413_1.5T_t1w.nii.gz</td>\n",
       "    </tr>\n",
       "    <tr>\n",
       "      <th>1</th>\n",
       "      <td>002_S_0559</td>\n",
       "      <td>559</td>\n",
       "      <td>79.3</td>\n",
       "      <td>0</td>\n",
       "      <td>1</td>\n",
       "      <td>0</td>\n",
       "      <td>0</td>\n",
       "      <td>0</td>\n",
       "      <td>1</td>\n",
       "      <td>mask_n_mmni_fADNI_002_S_0559_1.5T_t1w.nii.gz</td>\n",
       "      <td>n_mmni_fADNI_002_S_0559_1.5T_t1w.nii.gz</td>\n",
       "    </tr>\n",
       "    <tr>\n",
       "      <th>2</th>\n",
       "      <td>002_S_0619</td>\n",
       "      <td>619</td>\n",
       "      <td>77.5</td>\n",
       "      <td>1</td>\n",
       "      <td>0</td>\n",
       "      <td>0</td>\n",
       "      <td>0</td>\n",
       "      <td>0</td>\n",
       "      <td>1</td>\n",
       "      <td>mask_n_mmni_fADNI_002_S_0619_1.5T_t1w.nii.gz</td>\n",
       "      <td>n_mmni_fADNI_002_S_0619_1.5T_t1w.nii.gz</td>\n",
       "    </tr>\n",
       "    <tr>\n",
       "      <th>3</th>\n",
       "      <td>002_S_0685</td>\n",
       "      <td>685</td>\n",
       "      <td>89.6</td>\n",
       "      <td>0</td>\n",
       "      <td>1</td>\n",
       "      <td>0</td>\n",
       "      <td>0</td>\n",
       "      <td>1</td>\n",
       "      <td>0</td>\n",
       "      <td>mask_n_mmni_fADNI_002_S_0685_1.5T_t1w.nii.gz</td>\n",
       "      <td>n_mmni_fADNI_002_S_0685_1.5T_t1w.nii.gz</td>\n",
       "    </tr>\n",
       "    <tr>\n",
       "      <th>4</th>\n",
       "      <td>002_S_0729</td>\n",
       "      <td>729</td>\n",
       "      <td>65.1</td>\n",
       "      <td>0</td>\n",
       "      <td>0</td>\n",
       "      <td>1</td>\n",
       "      <td>0</td>\n",
       "      <td>1</td>\n",
       "      <td>0</td>\n",
       "      <td>mask_n_mmni_fADNI_002_S_0729_1.5T_t1w.nii.gz</td>\n",
       "      <td>n_mmni_fADNI_002_S_0729_1.5T_t1w.nii.gz</td>\n",
       "    </tr>\n",
       "  </tbody>\n",
       "</table>\n",
       "</div>"
      ],
      "text/plain": [
       "   Subject ID  Rooster ID   Age  AD  CN  pMCI  sMCI  Sexe_female  Sexe_male  \\\n",
       "0  002_S_0413         413  76.3   0   1     0     0            1          0   \n",
       "1  002_S_0559         559  79.3   0   1     0     0            0          1   \n",
       "2  002_S_0619         619  77.5   1   0     0     0            0          1   \n",
       "3  002_S_0685         685  89.6   0   1     0     0            1          0   \n",
       "4  002_S_0729         729  65.1   0   0     1     0            1          0   \n",
       "\n",
       "                                  mask_filename  \\\n",
       "0  mask_n_mmni_fADNI_002_S_0413_1.5T_t1w.nii.gz   \n",
       "1  mask_n_mmni_fADNI_002_S_0559_1.5T_t1w.nii.gz   \n",
       "2  mask_n_mmni_fADNI_002_S_0619_1.5T_t1w.nii.gz   \n",
       "3  mask_n_mmni_fADNI_002_S_0685_1.5T_t1w.nii.gz   \n",
       "4  mask_n_mmni_fADNI_002_S_0729_1.5T_t1w.nii.gz   \n",
       "\n",
       "                              MRI_filename  \n",
       "0  n_mmni_fADNI_002_S_0413_1.5T_t1w.nii.gz  \n",
       "1  n_mmni_fADNI_002_S_0559_1.5T_t1w.nii.gz  \n",
       "2  n_mmni_fADNI_002_S_0619_1.5T_t1w.nii.gz  \n",
       "3  n_mmni_fADNI_002_S_0685_1.5T_t1w.nii.gz  \n",
       "4  n_mmni_fADNI_002_S_0729_1.5T_t1w.nii.gz  "
      ]
     },
     "execution_count": 12,
     "metadata": {},
     "output_type": "execute_result"
    }
   ],
   "source": [
    "data_clean['mask_filename'] = 'mask_n_mmni_fADNI_' + data_clean['Subject ID'] + '_1.5T_t1w.nii.gz'\n",
    "data_clean['MRI_filename'] = 'n_mmni_fADNI_' + data_clean['Subject ID'] + '_1.5T_t1w.nii.gz'\n",
    "\n",
    "data_clean.head()"
   ]
  },
  {
   "cell_type": "code",
   "execution_count": 13,
   "id": "663472f0-1c29-4471-bcdc-be5eb4a48b60",
   "metadata": {},
   "outputs": [
    {
     "name": "stdout",
     "output_type": "stream",
     "text": [
      "n_mmni_fADNI_062_S_1294_1.5T_t1w.nii.gz\n"
     ]
    }
   ],
   "source": [
    "filename = data_clean['MRI_filename'][450]\n",
    "print(filename)"
   ]
  },
  {
   "cell_type": "code",
   "execution_count": 14,
   "id": "b843d60d-c298-421d-ad7a-6d712a652ae5",
   "metadata": {},
   "outputs": [],
   "source": [
    "from nibabel.testing import data_path"
   ]
  },
  {
   "cell_type": "code",
   "execution_count": 15,
   "id": "d7ccacf1-5c7b-4dc1-a5d4-a83a79762546",
   "metadata": {},
   "outputs": [],
   "source": [
    "MRI_ = os.path.join(data_path, '/home/coleger/Desktop/CV/Alz/ADNI1/' + filename)\n",
    "MRI_ = nib.load(MRI_)\n"
   ]
  },
  {
   "cell_type": "code",
   "execution_count": 16,
   "id": "b5bb9336-870c-4d40-9054-d88e98e68533",
   "metadata": {},
   "outputs": [
    {
     "name": "stdout",
     "output_type": "stream",
     "text": [
      "(181, 217, 181)\n",
      "<class 'numpy.ndarray'>\n"
     ]
    }
   ],
   "source": [
    "MRI = MRI_.get_fdata()\n",
    "print(MRI.shape)\n",
    "print(type(MRI))"
   ]
  },
  {
   "cell_type": "code",
   "execution_count": 17,
   "id": "7208065a-be4a-47fd-8d40-a93f53fbe755",
   "metadata": {},
   "outputs": [],
   "source": [
    "from matplotlib import pyplot as plt"
   ]
  },
  {
   "cell_type": "code",
   "execution_count": 18,
   "id": "ff8bb755-2095-49d2-95dc-7d1721736859",
   "metadata": {},
   "outputs": [
    {
     "data": {
      "image/png": "[encoded data removed]",
      "text/plain": [
       "<Figure size 640x480 with 4 Axes>"
      ]
     },
     "metadata": {},
     "output_type": "display_data"
    }
   ],
   "source": [
    "fig, axes = plt.subplots(nrows=1, ncols=4)\n",
    "\n",
    "# Loop through subplots and draw image\n",
    "for ii in range(4):\n",
    "    im = MRI[ii * 40, :, :]\n",
    "    axes[ii].imshow(im, cmap='gray')\n",
    "    axes[ii].axis('off')\n",
    "\n",
    "# Render the figure\n",
    "plt.show()"
   ]
  },
  {
   "cell_type": "markdown",
   "id": "a3da1551-3817-409b-afeb-eab4fa9fdb8c",
   "metadata": {},
   "source": [
    "## transformer nos données dans un format qui permet l'apprentissage"
   ]
  },
  {
   "cell_type": "code",
   "execution_count": 22,
   "id": "97c6c911-ce8d-454d-b4f3-253ea8436c8a",
   "metadata": {},
   "outputs": [
    {
     "name": "stdout",
     "output_type": "stream",
     "text": [
      "dataset shape :  (817,)\n"
     ]
    },
    {
     "data": {
      "text/plain": [
       "0    n_mmni_fADNI_002_S_0413_1.5T_t1w.nii.gz\n",
       "1    n_mmni_fADNI_002_S_0559_1.5T_t1w.nii.gz\n",
       "2    n_mmni_fADNI_002_S_0619_1.5T_t1w.nii.gz\n",
       "3    n_mmni_fADNI_002_S_0685_1.5T_t1w.nii.gz\n",
       "4    n_mmni_fADNI_002_S_0729_1.5T_t1w.nii.gz\n",
       "Name: MRI_filename, dtype: object"
      ]
     },
     "execution_count": 22,
     "metadata": {},
     "output_type": "execute_result"
    }
   ],
   "source": [
    "data_only_MRI = data_clean['MRI_filename']\n",
    "print('dataset shape : ' , data_only_MRI.shape)\n",
    "data_only_MRI.head()"
   ]
  },
  {
   "cell_type": "code",
   "execution_count": 24,
   "id": "ed235ad0-e601-4afc-92b7-21594680c739",
   "metadata": {},
   "outputs": [
    {
     "name": "stdout",
     "output_type": "stream",
     "text": [
      "dataset shape :  (817,)\n",
      "0    626\n",
      "1    191\n",
      "Name: AD, dtype: int64\n"
     ]
    },
    {
     "data": {
      "text/plain": [
       "0    0\n",
       "1    0\n",
       "2    1\n",
       "3    0\n",
       "4    0\n",
       "Name: AD, dtype: uint8"
      ]
     },
     "execution_count": 24,
     "metadata": {},
     "output_type": "execute_result"
    }
   ],
   "source": [
    "data_CN_AD = data_clean['AD']\n",
    "print('dataset shape : ' , data_CN_AD.shape)\n",
    "print(data_CN_AD.value_counts())\n",
    "data_CN_AD.head()"
   ]
  },
  {
   "cell_type": "code",
   "execution_count": 25,
   "id": "8eaa6f7c-ddf6-4aed-8374-935cd1a2ab9c",
   "metadata": {},
   "outputs": [
    {
     "name": "stdout",
     "output_type": "stream",
     "text": [
      "dataset shape :  (817,)\n",
      "0    589\n",
      "1    228\n",
      "Name: CN, dtype: int64\n"
     ]
    },
    {
     "data": {
      "text/plain": [
       "0    1\n",
       "1    1\n",
       "2    0\n",
       "3    1\n",
       "4    0\n",
       "Name: CN, dtype: uint8"
      ]
     },
     "execution_count": 25,
     "metadata": {},
     "output_type": "execute_result"
    }
   ],
   "source": [
    "data_CN_AD = data_clean['CN']\n",
    "print('dataset shape : ' , data_CN_AD.shape)\n",
    "print(data_CN_AD.value_counts())\n",
    "data_CN_AD.head()"
   ]
  },
  {
   "cell_type": "markdown",
   "id": "6e809788-9f6f-48bd-a384-f835ad0d6541",
   "metadata": {},
   "source": [
    "On voit que certaines données ne sont ni CN ni AD avec les deux affichages précédents\n",
    "\n",
    "Il faut uniquement les données avec soit CN soit AD, on crée donc un dataset avec ces données uniquement"
   ]
  },
  {
   "cell_type": "code",
   "execution_count": 26,
   "id": "ccac2f6a-7403-4246-9fc7-06439b61cdcd",
   "metadata": {},
   "outputs": [
    {
     "data": {
      "text/html": [
       "<div>\n",
       "<style scoped>\n",
       "    .dataframe tbody tr th:only-of-type {\n",
       "        vertical-align: middle;\n",
       "    }\n",
       "\n",
       "    .dataframe tbody tr th {\n",
       "        vertical-align: top;\n",
       "    }\n",
       "\n",
       "    .dataframe thead th {\n",
       "        text-align: right;\n",
       "    }\n",
       "</style>\n",
       "<table border=\"1\" class=\"dataframe\">\n",
       "  <thead>\n",
       "    <tr style=\"text-align: right;\">\n",
       "      <th></th>\n",
       "      <th>Subject ID</th>\n",
       "      <th>Rooster ID</th>\n",
       "      <th>Age</th>\n",
       "      <th>AD</th>\n",
       "      <th>CN</th>\n",
       "      <th>pMCI</th>\n",
       "      <th>sMCI</th>\n",
       "      <th>Sexe_female</th>\n",
       "      <th>Sexe_male</th>\n",
       "      <th>mask_filename</th>\n",
       "      <th>MRI_filename</th>\n",
       "    </tr>\n",
       "  </thead>\n",
       "  <tbody>\n",
       "    <tr>\n",
       "      <th>0</th>\n",
       "      <td>002_S_0413</td>\n",
       "      <td>413</td>\n",
       "      <td>76.3</td>\n",
       "      <td>0</td>\n",
       "      <td>1</td>\n",
       "      <td>0</td>\n",
       "      <td>0</td>\n",
       "      <td>1</td>\n",
       "      <td>0</td>\n",
       "      <td>mask_n_mmni_fADNI_002_S_0413_1.5T_t1w.nii.gz</td>\n",
       "      <td>n_mmni_fADNI_002_S_0413_1.5T_t1w.nii.gz</td>\n",
       "    </tr>\n",
       "    <tr>\n",
       "      <th>1</th>\n",
       "      <td>002_S_0559</td>\n",
       "      <td>559</td>\n",
       "      <td>79.3</td>\n",
       "      <td>0</td>\n",
       "      <td>1</td>\n",
       "      <td>0</td>\n",
       "      <td>0</td>\n",
       "      <td>0</td>\n",
       "      <td>1</td>\n",
       "      <td>mask_n_mmni_fADNI_002_S_0559_1.5T_t1w.nii.gz</td>\n",
       "      <td>n_mmni_fADNI_002_S_0559_1.5T_t1w.nii.gz</td>\n",
       "    </tr>\n",
       "    <tr>\n",
       "      <th>2</th>\n",
       "      <td>002_S_0619</td>\n",
       "      <td>619</td>\n",
       "      <td>77.5</td>\n",
       "      <td>1</td>\n",
       "      <td>0</td>\n",
       "      <td>0</td>\n",
       "      <td>0</td>\n",
       "      <td>0</td>\n",
       "      <td>1</td>\n",
       "      <td>mask_n_mmni_fADNI_002_S_0619_1.5T_t1w.nii.gz</td>\n",
       "      <td>n_mmni_fADNI_002_S_0619_1.5T_t1w.nii.gz</td>\n",
       "    </tr>\n",
       "    <tr>\n",
       "      <th>3</th>\n",
       "      <td>002_S_0685</td>\n",
       "      <td>685</td>\n",
       "      <td>89.6</td>\n",
       "      <td>0</td>\n",
       "      <td>1</td>\n",
       "      <td>0</td>\n",
       "      <td>0</td>\n",
       "      <td>1</td>\n",
       "      <td>0</td>\n",
       "      <td>mask_n_mmni_fADNI_002_S_0685_1.5T_t1w.nii.gz</td>\n",
       "      <td>n_mmni_fADNI_002_S_0685_1.5T_t1w.nii.gz</td>\n",
       "    </tr>\n",
       "    <tr>\n",
       "      <th>4</th>\n",
       "      <td>002_S_0729</td>\n",
       "      <td>729</td>\n",
       "      <td>65.1</td>\n",
       "      <td>0</td>\n",
       "      <td>0</td>\n",
       "      <td>1</td>\n",
       "      <td>0</td>\n",
       "      <td>1</td>\n",
       "      <td>0</td>\n",
       "      <td>mask_n_mmni_fADNI_002_S_0729_1.5T_t1w.nii.gz</td>\n",
       "      <td>n_mmni_fADNI_002_S_0729_1.5T_t1w.nii.gz</td>\n",
       "    </tr>\n",
       "  </tbody>\n",
       "</table>\n",
       "</div>"
      ],
      "text/plain": [
       "   Subject ID  Rooster ID   Age  AD  CN  pMCI  sMCI  Sexe_female  Sexe_male  \\\n",
       "0  002_S_0413         413  76.3   0   1     0     0            1          0   \n",
       "1  002_S_0559         559  79.3   0   1     0     0            0          1   \n",
       "2  002_S_0619         619  77.5   1   0     0     0            0          1   \n",
       "3  002_S_0685         685  89.6   0   1     0     0            1          0   \n",
       "4  002_S_0729         729  65.1   0   0     1     0            1          0   \n",
       "\n",
       "                                  mask_filename  \\\n",
       "0  mask_n_mmni_fADNI_002_S_0413_1.5T_t1w.nii.gz   \n",
       "1  mask_n_mmni_fADNI_002_S_0559_1.5T_t1w.nii.gz   \n",
       "2  mask_n_mmni_fADNI_002_S_0619_1.5T_t1w.nii.gz   \n",
       "3  mask_n_mmni_fADNI_002_S_0685_1.5T_t1w.nii.gz   \n",
       "4  mask_n_mmni_fADNI_002_S_0729_1.5T_t1w.nii.gz   \n",
       "\n",
       "                              MRI_filename  \n",
       "0  n_mmni_fADNI_002_S_0413_1.5T_t1w.nii.gz  \n",
       "1  n_mmni_fADNI_002_S_0559_1.5T_t1w.nii.gz  \n",
       "2  n_mmni_fADNI_002_S_0619_1.5T_t1w.nii.gz  \n",
       "3  n_mmni_fADNI_002_S_0685_1.5T_t1w.nii.gz  \n",
       "4  n_mmni_fADNI_002_S_0729_1.5T_t1w.nii.gz  "
      ]
     },
     "execution_count": 26,
     "metadata": {},
     "output_type": "execute_result"
    }
   ],
   "source": [
    "data_clean.head()"
   ]
  },
  {
   "cell_type": "markdown",
   "id": "15bb56e5-46e8-4162-9910-532dea5b304a",
   "metadata": {},
   "source": [
    "### Ajout d'une colonne avec AD = 0, CN = 1 et le reste = 2"
   ]
  },
  {
   "cell_type": "code",
   "execution_count": 29,
   "id": "93e812c5-991b-490b-a800-b3afee01dc9e",
   "metadata": {},
   "outputs": [
    {
     "data": {
      "text/html": [
       "<div>\n",
       "<style scoped>\n",
       "    .dataframe tbody tr th:only-of-type {\n",
       "        vertical-align: middle;\n",
       "    }\n",
       "\n",
       "    .dataframe tbody tr th {\n",
       "        vertical-align: top;\n",
       "    }\n",
       "\n",
       "    .dataframe thead th {\n",
       "        text-align: right;\n",
       "    }\n",
       "</style>\n",
       "<table border=\"1\" class=\"dataframe\">\n",
       "  <thead>\n",
       "    <tr style=\"text-align: right;\">\n",
       "      <th></th>\n",
       "      <th>Subject ID</th>\n",
       "      <th>Rooster ID</th>\n",
       "      <th>Age</th>\n",
       "      <th>AD</th>\n",
       "      <th>CN</th>\n",
       "      <th>pMCI</th>\n",
       "      <th>sMCI</th>\n",
       "      <th>Sexe_female</th>\n",
       "      <th>Sexe_male</th>\n",
       "      <th>mask_filename</th>\n",
       "      <th>MRI_filename</th>\n",
       "      <th>CN_AD</th>\n",
       "    </tr>\n",
       "  </thead>\n",
       "  <tbody>\n",
       "    <tr>\n",
       "      <th>0</th>\n",
       "      <td>002_S_0413</td>\n",
       "      <td>413</td>\n",
       "      <td>76.3</td>\n",
       "      <td>0</td>\n",
       "      <td>1</td>\n",
       "      <td>0</td>\n",
       "      <td>0</td>\n",
       "      <td>1</td>\n",
       "      <td>0</td>\n",
       "      <td>mask_n_mmni_fADNI_002_S_0413_1.5T_t1w.nii.gz</td>\n",
       "      <td>n_mmni_fADNI_002_S_0413_1.5T_t1w.nii.gz</td>\n",
       "      <td>1</td>\n",
       "    </tr>\n",
       "    <tr>\n",
       "      <th>1</th>\n",
       "      <td>002_S_0559</td>\n",
       "      <td>559</td>\n",
       "      <td>79.3</td>\n",
       "      <td>0</td>\n",
       "      <td>1</td>\n",
       "      <td>0</td>\n",
       "      <td>0</td>\n",
       "      <td>0</td>\n",
       "      <td>1</td>\n",
       "      <td>mask_n_mmni_fADNI_002_S_0559_1.5T_t1w.nii.gz</td>\n",
       "      <td>n_mmni_fADNI_002_S_0559_1.5T_t1w.nii.gz</td>\n",
       "      <td>1</td>\n",
       "    </tr>\n",
       "    <tr>\n",
       "      <th>2</th>\n",
       "      <td>002_S_0619</td>\n",
       "      <td>619</td>\n",
       "      <td>77.5</td>\n",
       "      <td>1</td>\n",
       "      <td>0</td>\n",
       "      <td>0</td>\n",
       "      <td>0</td>\n",
       "      <td>0</td>\n",
       "      <td>1</td>\n",
       "      <td>mask_n_mmni_fADNI_002_S_0619_1.5T_t1w.nii.gz</td>\n",
       "      <td>n_mmni_fADNI_002_S_0619_1.5T_t1w.nii.gz</td>\n",
       "      <td>0</td>\n",
       "    </tr>\n",
       "    <tr>\n",
       "      <th>3</th>\n",
       "      <td>002_S_0685</td>\n",
       "      <td>685</td>\n",
       "      <td>89.6</td>\n",
       "      <td>0</td>\n",
       "      <td>1</td>\n",
       "      <td>0</td>\n",
       "      <td>0</td>\n",
       "      <td>1</td>\n",
       "      <td>0</td>\n",
       "      <td>mask_n_mmni_fADNI_002_S_0685_1.5T_t1w.nii.gz</td>\n",
       "      <td>n_mmni_fADNI_002_S_0685_1.5T_t1w.nii.gz</td>\n",
       "      <td>1</td>\n",
       "    </tr>\n",
       "    <tr>\n",
       "      <th>4</th>\n",
       "      <td>002_S_0729</td>\n",
       "      <td>729</td>\n",
       "      <td>65.1</td>\n",
       "      <td>0</td>\n",
       "      <td>0</td>\n",
       "      <td>1</td>\n",
       "      <td>0</td>\n",
       "      <td>1</td>\n",
       "      <td>0</td>\n",
       "      <td>mask_n_mmni_fADNI_002_S_0729_1.5T_t1w.nii.gz</td>\n",
       "      <td>n_mmni_fADNI_002_S_0729_1.5T_t1w.nii.gz</td>\n",
       "      <td>2</td>\n",
       "    </tr>\n",
       "  </tbody>\n",
       "</table>\n",
       "</div>"
      ],
      "text/plain": [
       "   Subject ID  Rooster ID   Age  AD  CN  pMCI  sMCI  Sexe_female  Sexe_male  \\\n",
       "0  002_S_0413         413  76.3   0   1     0     0            1          0   \n",
       "1  002_S_0559         559  79.3   0   1     0     0            0          1   \n",
       "2  002_S_0619         619  77.5   1   0     0     0            0          1   \n",
       "3  002_S_0685         685  89.6   0   1     0     0            1          0   \n",
       "4  002_S_0729         729  65.1   0   0     1     0            1          0   \n",
       "\n",
       "                                  mask_filename  \\\n",
       "0  mask_n_mmni_fADNI_002_S_0413_1.5T_t1w.nii.gz   \n",
       "1  mask_n_mmni_fADNI_002_S_0559_1.5T_t1w.nii.gz   \n",
       "2  mask_n_mmni_fADNI_002_S_0619_1.5T_t1w.nii.gz   \n",
       "3  mask_n_mmni_fADNI_002_S_0685_1.5T_t1w.nii.gz   \n",
       "4  mask_n_mmni_fADNI_002_S_0729_1.5T_t1w.nii.gz   \n",
       "\n",
       "                              MRI_filename  CN_AD  \n",
       "0  n_mmni_fADNI_002_S_0413_1.5T_t1w.nii.gz      1  \n",
       "1  n_mmni_fADNI_002_S_0559_1.5T_t1w.nii.gz      1  \n",
       "2  n_mmni_fADNI_002_S_0619_1.5T_t1w.nii.gz      0  \n",
       "3  n_mmni_fADNI_002_S_0685_1.5T_t1w.nii.gz      1  \n",
       "4  n_mmni_fADNI_002_S_0729_1.5T_t1w.nii.gz      2  "
      ]
     },
     "execution_count": 29,
     "metadata": {},
     "output_type": "execute_result"
    }
   ],
   "source": [
    "def categorise(row):  \n",
    "    if row['CN'] == 1 :\n",
    "        return 1\n",
    "    elif row['AD'] ==1 :\n",
    "        return 0\n",
    "    else :\n",
    "        return 2\n",
    "    \n",
    "data_clean['CN_AD'] = data_clean.apply(lambda row: categorise(row), axis=1)\n",
    "data_clean.head()"
   ]
  },
  {
   "cell_type": "code",
   "execution_count": 32,
   "id": "2738d806-f949-491c-833b-946108348a92",
   "metadata": {},
   "outputs": [
    {
     "data": {
      "text/plain": [
       "1    228\n",
       "0    191\n",
       "Name: CN_AD, dtype: int64"
      ]
     },
     "execution_count": 32,
     "metadata": {},
     "output_type": "execute_result"
    }
   ],
   "source": [
    "data_clean_only_CN_AD = data_clean[data_clean['CN_AD'] != 2]\n",
    "data_clean_only_CN_AD['CN_AD'].value_counts()"
   ]
  },
  {
   "cell_type": "markdown",
   "id": "5b50e5a2-be7e-4add-a5a3-4bad863641ed",
   "metadata": {},
   "source": [
    "On se retrouve bien avec uniquement des données CN ou AD"
   ]
  },
  {
   "cell_type": "code",
   "execution_count": 35,
   "id": "c5ceb514-1478-45de-899f-1b8976eafe20",
   "metadata": {},
   "outputs": [
    {
     "name": "stdout",
     "output_type": "stream",
     "text": [
      "dataset shape :  (419,)\n"
     ]
    },
    {
     "data": {
      "text/plain": [
       "0    n_mmni_fADNI_002_S_0413_1.5T_t1w.nii.gz\n",
       "1    n_mmni_fADNI_002_S_0559_1.5T_t1w.nii.gz\n",
       "2    n_mmni_fADNI_002_S_0619_1.5T_t1w.nii.gz\n",
       "3    n_mmni_fADNI_002_S_0685_1.5T_t1w.nii.gz\n",
       "6    n_mmni_fADNI_002_S_0816_1.5T_t1w.nii.gz\n",
       "Name: MRI_filename, dtype: object"
      ]
     },
     "execution_count": 35,
     "metadata": {},
     "output_type": "execute_result"
    }
   ],
   "source": [
    "data_MRI = data_clean_only_CN_AD['MRI_filename']\n",
    "print('dataset shape : ' , data_MRI.shape)\n",
    "data_MRI.head()"
   ]
  },
  {
   "cell_type": "code",
   "execution_count": 36,
   "id": "876ccda5-5520-4cbc-84c3-65276cc54914",
   "metadata": {},
   "outputs": [
    {
     "name": "stdout",
     "output_type": "stream",
     "text": [
      "dataset shape :  (419,)\n"
     ]
    },
    {
     "data": {
      "text/plain": [
       "0    1\n",
       "1    1\n",
       "2    0\n",
       "3    1\n",
       "6    0\n",
       "Name: CN_AD, dtype: int64"
      ]
     },
     "execution_count": 36,
     "metadata": {},
     "output_type": "execute_result"
    }
   ],
   "source": [
    "data_CN_AD = data_clean_only_CN_AD['CN_AD']\n",
    "print('dataset shape : ' , data_CN_AD.shape)\n",
    "data_CN_AD.head()"
   ]
  },
  {
   "cell_type": "code",
   "execution_count": 43,
   "id": "c41e2216-c174-4c9d-8e65-9bfe515b0320",
   "metadata": {},
   "outputs": [
    {
     "data": {
      "text/plain": [
       "641    n_mmni_fADNI_126_S_0891_1.5T_t1w.nii.gz\n",
       "755    n_mmni_fADNI_136_S_0426_1.5T_t1w.nii.gz\n",
       "214    n_mmni_fADNI_023_S_0058_1.5T_t1w.nii.gz\n",
       "200    n_mmni_fADNI_022_S_0130_1.5T_t1w.nii.gz\n",
       "624    n_mmni_fADNI_123_S_0094_1.5T_t1w.nii.gz\n",
       "Name: MRI_filename, dtype: object"
      ]
     },
     "execution_count": 43,
     "metadata": {},
     "output_type": "execute_result"
    }
   ],
   "source": [
    "from sklearn.model_selection import train_test_split\n",
    "\n",
    "X_train_filesnames , y_train, X_test_filesnames, y_test = train_test_split(data_MRI, data_CN_AD, random_state=42, test_size=0.3)\n",
    "X_train.head()"
   ]
  },
  {
   "cell_type": "code",
   "execution_count": 44,
   "id": "b2564517-6de4-49af-a058-8b48cdc976c1",
   "metadata": {},
   "outputs": [
    {
     "data": {
      "text/plain": [
       "pandas.core.series.Series"
      ]
     },
     "execution_count": 44,
     "metadata": {},
     "output_type": "execute_result"
    }
   ],
   "source": [
    "type(X_train_filesnames)"
   ]
  },
  {
   "cell_type": "code",
   "execution_count": 46,
   "id": "9a44ab26-5574-49f8-ba9d-97904817798e",
   "metadata": {},
   "outputs": [],
   "source": [
    "X_train_filesnames.to_csv(\"/home/coleger/Desktop/CV/Alz/X_train_filesnames.csv\", index=True)\n",
    "X_test_filesnames.to_csv(\"/home/coleger/Desktop/CV/Alz/X_test_filesnames.csv\",index=True)\n",
    "y_train.to_csv(\"/home/coleger/Desktop/CV/Alz/y_train.csv\",index=True)\n",
    "y_test.to_csv(\"/home/coleger/Desktop/CV/Alz/y_test.csv\",index=True)"
   ]
  }
 ],
 "metadata": {
  "kernelspec": {
   "display_name": "Python 3 (ipykernel)",
   "language": "python",
   "name": "python3"
  },
  "language_info": {
   "codemirror_mode": {
    "name": "ipython",
    "version": 3
   },
   "file_extension": ".py",
   "mimetype": "text/x-python",
   "name": "python",
   "nbconvert_exporter": "python",
   "pygments_lexer": "ipython3",
   "version": "3.10.6"
  }
 },
 "nbformat": 4,
 "nbformat_minor": 5
}
